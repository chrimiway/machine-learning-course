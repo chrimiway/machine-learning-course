{
 "cells": [
  {
   "cell_type": "markdown",
   "metadata": {},
   "source": [
    "# Assignment 1 - Probability, Linear Algebra, Programming, and Git\n",
    "\n",
    "## *Zhenhua Wang*\n",
    "Netid:  *zw149*"
   ]
  },
  {
   "cell_type": "markdown",
   "metadata": {},
   "source": [
    "# Probability and Statistics Theory"
   ]
  },
  {
   "cell_type": "markdown",
   "metadata": {},
   "source": [
    "## 1\n",
    "Let $f(x) = \\begin{cases}\n",
    "                0           & x < 0  \\\\\n",
    "                \\alpha x^2  & 0 \\leq x \\leq 2 \\\\\n",
    "                0           & 2 < x\n",
    "            \\end{cases}$\n",
    "            \n",
    "For what value of $\\alpha$ is $f(x)$ a valid probability density function?\n",
    "\n",
    "*Note: for all assignments, write out all equations and math for all assignments using markdown and [LaTeX](https://tobi.oetiker.ch/lshort/lshort.pdf) and show all work*"
   ]
  },
  {
   "cell_type": "markdown",
   "metadata": {},
   "source": [
    "**ANSWER**\n",
    "\n",
    "$\\int_0^2 ax^2\\;\\mathrm{d}x= \\tfrac{1}{3} a x^3 \\Big|_0^2 = \\tfrac{8}{3} a = 1$\n",
    "\n",
    "$a = \\tfrac{3}{8}$"
   ]
  },
  {
   "cell_type": "markdown",
   "metadata": {},
   "source": [
    "## 2\n",
    "What is the cumulative distribution function (CDF) that corresponds to the following probability distribution function? Please state the value of the CDF for all possible values of $x$.\n",
    "\n",
    "$f(x) = \\begin{cases}\n",
    "    \\frac{1}{3} & 0 < x < 3 \\\\\n",
    "    0           & \\text{otherwise}\n",
    "    \\end{cases}$"
   ]
  },
  {
   "cell_type": "markdown",
   "metadata": {},
   "source": [
    "**ANSWER**\n",
    "\n",
    "for $f(x)$ in the case $0 < x < 3$, $F(x) = \\int_0^x \\frac{1}{3}\\;\\mathrm{d}x = \\frac{1}{3} x \\Big|_0^x = \\frac{1}{3} x$\n",
    "\n",
    "$F(x) = \\begin{cases}\n",
    "    0             & x < 0 \\\\\n",
    "    \\frac{1}{3} x & 0 \\leqslant x < 3 \\\\\n",
    "    1             & x \\geqslant 3\n",
    "    \\end{cases}$"
   ]
  },
  {
   "cell_type": "markdown",
   "metadata": {},
   "source": [
    "## 3\n",
    "For the probability distribution function for the random variable $X$,\n",
    "\n",
    "$f(x) = \\begin{cases}\n",
    "    \\frac{1}{3} & 0 < x < 3 \\\\\n",
    "    0           & \\text{otherwise}\n",
    "    \\end{cases}$\n",
    "    \n",
    "what is the (a) expected value and (b) variance of $X$. *Show all work*."
   ]
  },
  {
   "cell_type": "markdown",
   "metadata": {},
   "source": [
    "**ANSWER**\n",
    "\n",
    "(a) Expected value:\n",
    "\n",
    "$\\mathbf{E}(X) = \\int_0^3 \\frac{1}{3} x\\;\\mathrm{d}x = \\frac{1}{6} x^2 \\Big|_0^3 = \\frac{3}{2}$\n",
    "\n",
    "\n",
    "(b) Variance:\n",
    "\n",
    "$\\mathbf{Var}(X) = \\mathbf{E}(X^2) - (\\mathbf{E}(X))^2 = \\int_0^3 \\frac{1}{3} x^2\\;\\mathrm{d}x - \\frac{9}{4} = \\frac{1}{9} x^3 \\Big|_0^3 - \\frac{9}{4} = 3 - \\frac{9}{4} = \\frac{3}{4}$\n"
   ]
  },
  {
   "cell_type": "markdown",
   "metadata": {},
   "source": [
    "## 4\n",
    "Consider the following table of data that provides the values of a discrete data vector $\\mathbf{x}$ of samples from the random variable $X$, where each entry in $\\mathbf{x}$ is given as $x_i$.\n",
    "\n",
    "*Table 1. Dataset N=5 observations*\n",
    "\n",
    "|        | $x_0$ | $x_1$ | $x_2$ | $x_3$ | $x_4$ |\n",
    "|------  |-------|-------|-------|-------|-------|\n",
    "|$\\textbf{x}$| 2     | 3     | 10    | -1    | -1    |\n",
    "\n",
    "What is the (a) mean, (b) variance, and the  of the data? \n",
    "\n",
    "*Show all work. Your answer should include the definition of mean, median, and variance in the context of discrete data.*"
   ]
  },
  {
   "cell_type": "markdown",
   "metadata": {},
   "source": [
    "**ANSWER**\n",
    "\n",
    "(a) Mean\n",
    "\n",
    "$\\mu = \\frac{\\sum_{i=0}^{4} x_i}{N} = \\frac{2 + 3 + 10 - 1 - 1}{5} = \\frac{13}{5}$\n",
    "\n",
    "\n",
    "(b) Variance\n",
    "\n",
    "$\\mathbf{V} = \\frac{\\sum_{0}^{4}(x_i - \\mu)^2}{N - 1} = \\frac{(-0.6)^2 + (0.4)^2 + (7.4)^2 + (-3.6)^2 + (-3.6)^2}{5 - 1} = 20.3$\n",
    "\n",
    "(c) Median\n",
    "\n",
    "First sort the data in increasing order.\n",
    "\n",
    "$-1, -1, 2, 3, 10$\n",
    "\n",
    "The one in the middle is the median.\n",
    "Therefore, median = 2"
   ]
  },
  {
   "cell_type": "markdown",
   "metadata": {},
   "source": [
    "## 5\n",
    "Review of counting from probability theory. \n",
    "\n",
    "(a) How many different 7-place license plates are possible if the first 3 places only contain letters and the last 4 only contain numbers?\n",
    "\n",
    "(b) How many different batting orders are possible for a baseball team with 9 players?\n",
    "\n",
    "(c) How many batting orders of 5 players are possible for a team with 9 players total?\n",
    "\n",
    "(d) Let's assume this class has 26 students and we want to form project teams. How many unique teams of 3 are possible?\n",
    "\n",
    "*Hint: For each problem, determine if order matters, and if it should be calculated with or without replacement.*"
   ]
  },
  {
   "cell_type": "markdown",
   "metadata": {},
   "source": [
    "**ANSWER**\n",
    "\n",
    "(a) $26^3 \\times 10^4 = 175,760,000$\n",
    "\n",
    "(b) ${9!} = 362880$\n",
    "\n",
    "(c) ${9 \\choose 5} \\times 5! = 15120$\n",
    "\n",
    "(d) ${26 \\choose 3} = 2600$\n",
    "\n"
   ]
  },
  {
   "cell_type": "markdown",
   "metadata": {},
   "source": [
    "# Linear Algebra"
   ]
  },
  {
   "cell_type": "markdown",
   "metadata": {},
   "source": [
    "## 6\n",
    "**Matrix manipulations and multiplication**. Machine learning involves working with many matrices, so this exercise will provide you with the opportunity to practice those skills.\n",
    "\n",
    "Let\n",
    "$\\mathbf{A} =  \\begin{bmatrix}\n",
    "1 & 2 & 3 \\\\\n",
    "2 & 4 & 5 \\\\\n",
    "3 & 5 & 6 \n",
    "\\end{bmatrix}$, $\\mathbf{b} =  \\begin{bmatrix}\n",
    "-1  \\\\\n",
    "3  \\\\\n",
    "8  \n",
    "\\end{bmatrix}$, $\\mathbf{c} =  \\begin{bmatrix}\n",
    "4  \\\\\n",
    "-3  \\\\\n",
    "6  \n",
    "\\end{bmatrix}$, and $\\mathbf{I} =  \\begin{bmatrix}\n",
    "1 & 0 & 0 \\\\\n",
    "0 & 1 & 0 \\\\\n",
    "0 & 0 & 1 \n",
    "\\end{bmatrix}$\n",
    "\n",
    "Compute the following or indicate that it cannot be computed:\n",
    "\n",
    "1. $\\mathbf{A}\\mathbf{A}$\n",
    "2. $\\mathbf{A}\\mathbf{A}^T$\n",
    "3. $\\mathbf{A}\\mathbf{b}$\n",
    "4. $\\mathbf{A}\\mathbf{b}^T$\n",
    "5. $\\mathbf{b}\\mathbf{A}$\n",
    "6. $\\mathbf{b}^T\\mathbf{A}$\n",
    "7. $\\mathbf{b}\\mathbf{b}$\n",
    "8. $\\mathbf{b}^T\\mathbf{b}$\n",
    "9. $\\mathbf{b}\\mathbf{b}^T$\n",
    "10. $\\mathbf{b} + \\mathbf{c}^T$\n",
    "11. $\\mathbf{b}^T\\mathbf{b}^T$\n",
    "12. $\\mathbf{A}^{-1}\\mathbf{b}$\n",
    "13. $\\mathbf{A}\\circ\\mathbf{A}$\n",
    "14. $\\mathbf{b}\\circ\\mathbf{c}$\n",
    "\n",
    "*Note: The element-wise (or Hadamard) product is the product of each element in one matrix with the corresponding element in another matrix, and is represented by the symbol \"$\\circ$\".*"
   ]
  },
  {
   "cell_type": "markdown",
   "metadata": {},
   "source": [
    "**ANSWER**\n",
    "\n",
    "1. $\\mathbf{A}\\mathbf{A} = \\begin{bmatrix}\n",
    "14 & 25 & 31 \\\\\n",
    "25 & 45 & 56 \\\\\n",
    "31 & 56 & 70 \n",
    "\\end{bmatrix}$\n",
    "\n",
    "2. $\\mathbf{A}\\mathbf{A}^T = \\begin{bmatrix}\n",
    "14 & 25 & 31 \\\\\n",
    "25 & 45 & 56 \\\\\n",
    "31 & 56 & 70 \n",
    "\\end{bmatrix}$\n",
    "\n",
    "3. $\\mathbf{A}\\mathbf{b} = \\begin{bmatrix}\n",
    "29 \\\\\n",
    "50 \\\\\n",
    "60 \n",
    "\\end{bmatrix}$\n",
    "\n",
    "4. Since the numbers of columns in $\\mathbf{A}$ (which is 3) is not equal to the numbers of rows in $\\mathbf{b^T}$ (which is 1), $\\mathbf{A}\\mathbf{b}^T$ cannot be computed\n",
    "\n",
    "5. Since the numbers of columns in $\\mathbf{b}$ (which is 1) is not equal to the numbers of rows in $\\mathbf{A}$ (which is 3), $\\mathbf{b}\\mathbf{A}$ cannot be computed\n",
    "\n",
    "6. $\\mathbf{b^T}\\mathbf{A} = \\begin{bmatrix}\n",
    "29 & 50 & 60\n",
    "\\end{bmatrix}$\n",
    "\n",
    "7. Since the numbers of columns in $\\mathbf{b}$ (which is 1) is not equal to the numbers of rows in $\\mathbf{b}$ (which is 3), $\\mathbf{b}\\mathbf{b}$ cannot be computed\n",
    "\n",
    "8. $\\mathbf{b}^T\\mathbf{b} = 74$\n",
    "\n",
    "9. $\\mathbf{b}\\mathbf{b}^T = \\begin{bmatrix}\n",
    "1 & -3 & -8 \\\\\n",
    "-3 & 9 & 24 \\\\\n",
    "-8 & 24 & 64 \n",
    "\\end{bmatrix}$\n",
    "\n",
    "10. $\\mathbf{b} + \\mathbf{c}^T = \\begin{bmatrix}\n",
    "3 \\\\\n",
    "0 \\\\\n",
    "14 \n",
    "\\end{bmatrix}$\n",
    "\n",
    "11. Since the numbers of columns in $\\mathbf{b}^T$ (which is 3) is not equal to the numbers of rows in $\\mathbf{b}^T$ (which is 1), $\\mathbf{b}^T\\mathbf{b}^T$ cannot be computed\n",
    "\n",
    "12. \n",
    "$ \\mathbf{rref} = \\begin{bmatrix}\n",
    "1 & 0 & 0 & 1 & -3 & 2 \\\\\n",
    "0 & 1 & 0 & -3 & 3 & -1\\\\\n",
    "0 & 0 & 1 & 2 & -1 & 0\n",
    "\\end{bmatrix}$\n",
    "\n",
    "$\\mathbf{A}^{-1} = \\begin{bmatrix}\n",
    "1 & -3 & 2 \\\\\n",
    "-3 & 3 & -1 \\\\\n",
    "2 & -1 & 0 \n",
    "\\end{bmatrix}$\n",
    "\n",
    "$\\mathbf{A}^{-1}\\mathbf{b} = \\begin{bmatrix}\n",
    "6 \\\\\n",
    "4 \\\\\n",
    "-5 \n",
    "\\end{bmatrix}$\n",
    "\n",
    "13. $\\mathbf{A}\\circ\\mathbf{A} = \\begin{bmatrix}\n",
    "1 & 4 & 9 \\\\\n",
    "4 & 16 & 25 \\\\\n",
    "9 & 25 & 36 \n",
    "\\end{bmatrix}$\n",
    "14. $\\mathbf{b}\\circ\\mathbf{c} = \\begin{bmatrix}\n",
    "-4 \\\\\n",
    "-9 \\\\\n",
    "48 \n",
    "\\end{bmatrix}$"
   ]
  },
  {
   "cell_type": "markdown",
   "metadata": {},
   "source": [
    "## 6\n",
    "**Eigenvectors and eigenvalues**. Eigenvectors and eigenvalues are useful for some machine learning algorithms, but the concepts take time to solidly grasp. For an intuitive review of these concepts, explore this [interactive website at Setosa.io](http://setosa.io/ev/eigenvectors-and-eigenvalues/). Also, the series of linear algebra videos by Grant Sanderson of 3Brown1Blue are excellent and can be viewed on youtube [here](https://www.youtube.com/playlist?list=PLZHQObOWTQDPD3MizzM2xVFitgF8hE_ab).\n",
    "\n",
    "1. Calculate the eigenvalues and corresponding eigenvectors of matrix $\\mathbf{A}$ above, from the last question.\n",
    "2. Choose one of the eigenvector/eigenvalue pairs, $\\mathbf{v}$ and $\\lambda$, and show that $\\mathbf{A} \\mathbf{v} = \\lambda \\mathbf{v}$. Also show that this relationship extends to higher orders: $\\mathbf{A} \\mathbf{A} \\mathbf{v} = \\lambda^2 \\mathbf{v}$\n",
    "3. Show that the eigenvectors are orthogonal to one another (e.g. their inner product is zero). This is true for real, symmetric matrices."
   ]
  },
  {
   "cell_type": "code",
   "execution_count": null,
   "metadata": {},
   "outputs": [],
   "source": [
    "import numpy as np\n",
    "A = np.array([[1,2,3], [2,4,5], [3,5,6]])\n",
    "print(\"\\nquestion 1: \\n\")\n",
    "lam, v = np.linalg.eig(A)\n",
    "print(\"eigenvectors: \", v)\n",
    "print(\"eigenvalues: \", lam)\n",
    "print(\"\\nquestion 2: \\n\")\n",
    "print(A.dot(v[:,1].T), lam[1]*v[:,1].T)\n",
    "print(A.dot(A.dot(v[:,1].T)), (lam[1]**2)*v[:,1].T)\n",
    "print(\"\\nquestion 3: \\n\")\n",
    "np.inner(v, v)"
   ]
  },
  {
   "cell_type": "markdown",
   "metadata": {},
   "source": [
    "**ANSWER**\n",
    "\n",
    "(1). \n",
    "\n",
    "eigenvectors: \n",
    "\n",
    "$\\mathbf{v1} = \\begin{bmatrix}\n",
    "-0.32798528 \\\\\n",
    "-0.59100905 \\\\\n",
    "-0.73697623 \n",
    "\\end{bmatrix}$\n",
    "\n",
    "$\\mathbf{v1} = \\begin{bmatrix}\n",
    "-0.73697623 \\\\\n",
    "-0.32798528 \\\\\n",
    "0.59100905 \n",
    "\\end{bmatrix}$\n",
    "\n",
    "$\\mathbf{v1} = \\begin{bmatrix}\n",
    "0.59100905 \\\\\n",
    "-0.73697623 \\\\\n",
    "0.32798528 \n",
    "\\end{bmatrix}$\n",
    "\n",
    "eigenvalues:\n",
    "\n",
    "$\\lambda1 = 11.34481428$\n",
    "\n",
    "$\\lambda2 = -0.51572947$\n",
    "\n",
    "$\\lambda2 = 0.17091519$\n",
    "\n",
    "(2).\n",
    "\n",
    "$\\mathbf{A} \\mathbf{v} = \\begin{bmatrix}\n",
    "0.38008036 \\\\\n",
    "0.16915167 \\\\\n",
    "-0.30480078\n",
    "\\end{bmatrix}$\n",
    "\n",
    "$\\lambda \\mathbf{v} = \\begin{bmatrix}\n",
    "0.38008036 \\\\\n",
    "0.16915167 \\\\\n",
    "-0.30480078\n",
    "\\end{bmatrix}$\n",
    "\n",
    "Therefore, $\\mathbf{A} \\mathbf{v} = \\lambda \\mathbf{v}$\n",
    "\n",
    "$\\mathbf{A} \\mathbf{A} \\mathbf{v} = \\begin{bmatrix}\n",
    "-0.19601864 \\\\\n",
    "-0.0872365 \\\\\n",
    "0.15719475\n",
    "\\end{bmatrix}$\n",
    "\n",
    "$\\lambda^2 \\mathbf{v} = \\begin{bmatrix}\n",
    "-0.19601864 \\\\\n",
    "-0.0872365 \\\\\n",
    "0.15719475\n",
    "\\end{bmatrix}$\n",
    "\n",
    "Therefore, $\\mathbf{A} \\mathbf{A} \\mathbf{v} = \\lambda^2 \\mathbf{v}$\n",
    "\n",
    "(3).\n",
    "\n",
    "$<\\mathbf{v}, \\mathbf{v}> = \\begin{bmatrix}\n",
    "1.00000000e+00 & -2.87151915e-16 & 5.20018773e-17 \\\\\n",
    "-2.87151915e-16 & 1.00000000e+00 & 1.32452324e-16 \\\\\n",
    "5.20018773e-17 & 1.32452324e-16 & 1.00000000e+00 \n",
    "\\end{bmatrix}$\n",
    "\n",
    "Since the elements not on the diagonal line are extremely small, we can safely consider it as 0. Therefore, the eigenvectors are orthogonal to one another."
   ]
  },
  {
   "cell_type": "markdown",
   "metadata": {},
   "source": [
    "# Numerical Programming"
   ]
  },
  {
   "cell_type": "markdown",
   "metadata": {},
   "source": [
    "## 7\n",
    "Speed comparison between vectorized and non-vectorized code. Begin by creating an array of 10 million random numbers using the numpy random.randn module. Compute the sum of the squares first in a for loop, then using Numpy's `dot` module. Time how long it takes to compute each and report the results and report the output. How many times faster is the vectorized code than the for loop approach?\n",
    "\n",
    "*Note: all code should be well commented, properly formatted, and your answers should be output using the `print()` function as follows (where the # represents your answers, to a reasonable precision):\n",
    "\n",
    "`Time [sec] (non-vectorized): ######`\n",
    "\n",
    "`Time [sec] (vectorized):     ######`\n",
    "\n",
    "`The vectorized code is ##### times faster than the vectorized code`"
   ]
  },
  {
   "cell_type": "markdown",
   "metadata": {},
   "source": [
    "**ANSWER**"
   ]
  },
  {
   "cell_type": "code",
   "execution_count": 1,
   "metadata": {
    "collapsed": true
   },
   "outputs": [
    {
     "name": "stdout",
     "output_type": "stream",
     "text": [
      "Time [sec] (non-vectorized):  4.849636\n",
      "Time [sec] (vectorized):  0.019144999999999968\n",
      "The vectorized code is 253.31083833899234 times faster than the non-vectorized code\n"
     ]
    }
   ],
   "source": [
    "import numpy as np\n",
    "import time\n",
    "\n",
    "# Generate the random samples\n",
    "samples = np.random.rand(10000000)\n",
    "\n",
    "# Compute the sum of squares the non-vectorized way (using a for loop)\n",
    "t1 = time.clock()\n",
    "sum = 0\n",
    "for i in samples:\n",
    "    sum += i**2\n",
    "    pass\n",
    "t2 = time.clock()\n",
    "\n",
    "# Compute the sum of squares the vectorized way (using numpy)\n",
    "t3 = time.clock()\n",
    "sum_vec = samples.dot(samples)\n",
    "t4 = time.clock()\n",
    "# Print the results\n",
    "non_vec_t = t2 - t1\n",
    "vec_t = t4 - t3\n",
    "print(\"Time [sec] (non-vectorized): \", non_vec_t)\n",
    "print(\"Time [sec] (vectorized): \", vec_t)\n",
    "print(\"The vectorized code is {} times faster than the non-vectorized code\".format(non_vec_t / vec_t))"
   ]
  },
  {
   "cell_type": "markdown",
   "metadata": {},
   "source": [
    "## 8\n",
    "One popular Agile development framework is Scrum (a paradigm recommended for data science projects). It emphasizes the continual evolution of code for projects, becoming progressively better, but starting with a quickly developed minimum viable product. This often means that code written early on is not optimized, and that's a good thing - it's best to get it to work first before optimizing. Imagine that you wrote the following code during a sprint towards getting an end-to-end system working. Vectorize the following code and show the difference in speed between the current implementation and a vectorized version.\n",
    "\n",
    "The function below computes the function $f(x,y) = x^2 - 2 y^2$ and determines whether this quantity is above or below a given threshold, `thresh=0`. This is done for $x,y \\in \\{-4,4\\}$, over a 2,000-by-2,000 grid covering that domain.\n",
    "\n",
    "(a) Vectorize this code and demonstrate (as in the last exercise) the speed increase through vectorization and (b) plot the resulting data - both the function $f(x,y)$ and the thresholded output - using [`imshow`](https://matplotlib.org/api/_as_gen/matplotlib.pyplot.imshow.html?highlight=matplotlib%20pyplot%20imshow#matplotlib.pyplot.imshow) from `matplotlib`.\n",
    "\n",
    "*Hint: look at the `numpy` [`meshgrid`](https://docs.scipy.org/doc/numpy-1.13.0/reference/generated/numpy.meshgrid.html) documentation*"
   ]
  },
  {
   "cell_type": "code",
   "execution_count": 27,
   "metadata": {
    "collapsed": true
   },
   "outputs": [
    {
     "name": "stdout",
     "output_type": "stream",
     "text": [
      "Time [sec] (non-vectorized):  8.222125000000005\n",
      "Time [sec] (vectorized):  0.0504099999999994\n",
      "The vectorized code is 163.10503868280307 times faster than the non-vectorized code\n"
     ]
    },
    {
     "data": {
      "text/plain": [
       "Text(0.5, 1.0, 'non-vectorized')"
      ]
     },
     "execution_count": 27,
     "metadata": {},
     "output_type": "execute_result"
    },
    {
     "data": {
      "image/png": "[encoded data removed]",
      "text/plain": [
       "<Figure size 432x288 with 3 Axes>"
      ]
     },
     "metadata": {
      "needs_background": "light"
     },
     "output_type": "display_data"
    }
   ],
   "source": [
    "%matplotlib inline\n",
    "import numpy as np\n",
    "import time\n",
    "import matplotlib.pyplot as plt\n",
    "\n",
    "# Initialize variables for this exerise\n",
    "thresh = 0\n",
    "x = np.linspace(-4, 4, 2000)\n",
    "y = np.linspace(-4, 4, 2000)\n",
    "\n",
    "xx, yy = np.meshgrid(x, y)\n",
    "\n",
    "# Nonvectorized implementation\n",
    "t1 = time.clock()\n",
    "\n",
    "f_thresh = np.zeros((2000, 2000))\n",
    "for i in range(0, 2000):\n",
    "    for j in range(0, 2000):\n",
    "        if (xx[i][j]**2 - 2*yy[i][j]**2) > thresh:\n",
    "            f_thresh[i][j] = 1\n",
    "        else:\n",
    "            f_thresh[i][j] = -1\n",
    "t2 = time.clock()\n",
    "\n",
    "# Vectorized implementation\n",
    "t3 = time.clock()\n",
    "f = xx*xx - 2*yy*yy\n",
    "f_thresh_2 = np.where(f > thresh, 1, -1)\n",
    "t4 = time.clock()\n",
    "\n",
    "# Print the time for each and the speed increase\n",
    "non_vec_t = t2 - t1\n",
    "vec_t = t4 - t3\n",
    "print(\"Time [sec] (non-vectorized): \", non_vec_t)\n",
    "print(\"Time [sec] (vectorized): \", vec_t)\n",
    "print(\"The vectorized code is {} times faster than the non-vectorized code\".format(non_vec_t / vec_t))\n",
    "\n",
    "# Plot the result\n",
    "plt.subplot(131)\n",
    "plt.imshow(f)\n",
    "plt.xticks(np.linspace(0, 2000, 5), [-4, -2, 0, 2, 4])\n",
    "plt.yticks(np.linspace(0, 2000, 5), [-4, -2, 0, 2, 4])\n",
    "plt.title('f')\n",
    "plt.subplot(132)\n",
    "plt.imshow(f_thresh)\n",
    "plt.xticks(np.linspace(0, 2000, 5), [-4, -2, 0, 2, 4])\n",
    "plt.yticks(np.linspace(0, 2000, 5), [-4, -2, 0, 2, 4])\n",
    "plt.title('non-vectorized')\n",
    "plt.subplot(133)\n",
    "plt.imshow(f_thresh_2)\n",
    "plt.xticks(np.linspace(0, 2000, 5), [-4, -2, 0, 2, 4])\n",
    "plt.yticks(np.linspace(0, 2000, 5), [-4, -2, 0, 2, 4])\n",
    "plt.title('non-vectorized')"
   ]
  },
  {
   "cell_type": "markdown",
   "metadata": {},
   "source": [
    "## 9\n",
    "This exercise will walk through some basic numerical programming exercises.\n",
    "1. Synthesize $n=10^4$ normally distributed data points with mean $\\mu=2$ and a standard deviation of $\\sigma=1$. Call these observations from a random variable $X$, and call the vector of observations that you generate, $\\textbf{x}$.\n",
    "2. Calculate the mean and standard deviation of $\\textbf{x}$ to validate (1) and provide the result to a precision of four significant figures.\n",
    "3. Plot a histogram of the data in $\\textbf{x}$ with 30 bins\n",
    "4. What is the 90th percentile of $\\textbf{x}$? The 90th percentile is the value below which 90% of observations can be found.\n",
    "5. What is the 99th percentile of $\\textbf{x}$?\n",
    "6. Now synthesize $n=10^4$ normally distributed data points with mean $\\mu=0$ and a standard deviation of $\\sigma=3$. Call these observations from a random variable $Y$, and call the vector of observations that you generate, $\\textbf{y}$.\n",
    "7. Plot the histogram of the data in $\\textbf{y}$ on a (new) plot with the histogram of $\\textbf{x}$, so that both histograms can be seen and compared.\n",
    "8. Using the observations from $\\textbf{x}$ and $\\textbf{y}$, estimate $E[XY]$"
   ]
  },
  {
   "cell_type": "markdown",
   "metadata": {},
   "source": [
    "**ANSWER**"
   ]
  },
  {
   "cell_type": "code",
   "execution_count": 82,
   "metadata": {
    "collapsed": true
   },
   "outputs": [
    {
     "name": "stdout",
     "output_type": "stream",
     "text": [
      "mean: 1.993\n",
      "standard deviation: 1.007\n",
      "90th percentile:  -0.40662233906101186\n",
      "99th percentile:  -0.3673311266781584\n",
      "E(XY) =  -0.028602848238119358\n"
     ]
    },
    {
     "data": {
      "image/png": "[encoded data removed]",
      "text/plain": [
       "<Figure size 432x288 with 1 Axes>"
      ]
     },
     "metadata": {
      "needs_background": "light"
     },
     "output_type": "display_data"
    },
    {
     "data": {
      "image/png": "[encoded data removed]",
      "text/plain": [
       "<Figure size 432x288 with 1 Axes>"
      ]
     },
     "metadata": {
      "needs_background": "light"
     },
     "output_type": "display_data"
    }
   ],
   "source": [
    "%matplotlib inline\n",
    "import numpy as np\n",
    "import matplotlib.pyplot as plt\n",
    "\n",
    "# 1\n",
    "x = np.random.normal(2.0, 1.0, 10000)\n",
    "# 2\n",
    "E_X = np.mean(x)\n",
    "print(\"mean: {0:.4}\".format(E_X))\n",
    "print(\"standard deviation: {0:.4}\".format(np.std(x)))\n",
    "# 3\n",
    "plt.hist(x, bins=30)\n",
    "plt.title('histogram of the data in x with 30 bins')\n",
    "# 4\n",
    "ninty_per = np.percentile(x, q=0.9)\n",
    "print(\"90th percentile: \", ninty_per)\n",
    "# 5\n",
    "nintynine_per = np.percentile(x, q=0.99)\n",
    "print(\"99th percentile: \", nintynine_per)\n",
    "# 6\n",
    "y = np.random.normal(0.0, 3.0, 10000)\n",
    "# 7\n",
    "plt.figure()\n",
    "plt.hist(x, bins=30, label=\"x\")\n",
    "plt.hist(y, bins=30, label=\"y\", alpha=0.4)\n",
    "plt.title('histogram of the data in y with the histogram of x')\n",
    "plt.legend()\n",
    "# 8\n",
    "E_Y = np.mean(y)\n",
    "E_XY = E_X*E_Y\n",
    "print(\"E(XY) = \", E_XY)"
   ]
  },
  {
   "cell_type": "markdown",
   "metadata": {},
   "source": [
    "## 10\n",
    "Estimate the integral of the function $f(x)$ on the interval $0\\leq x < 2.5$ assuming we only know the following points from $f$:\n",
    "\n",
    "*Table 1. Dataset containing n=5 observations*\n",
    "\n",
    "| $x_i$ | 0.0 | 0.5 | 1.0 | 1.5 | 2.0 |\n",
    "|-|-|-|-|-|-|\n",
    "| $y_i$ | 6 | 7 | 8 | 4 | 1 |\n"
   ]
  },
  {
   "cell_type": "markdown",
   "metadata": {},
   "source": [
    "**ANSWER**"
   ]
  },
  {
   "cell_type": "code",
   "execution_count": 75,
   "metadata": {},
   "outputs": [
    {
     "name": "stdout",
     "output_type": "stream",
     "text": [
      " the integral of the function 𝑓(𝑥) on the interval 0≤𝑥<2.5:  13.0\n"
     ]
    },
    {
     "data": {
      "image/png": "[encoded data removed]",
      "text/plain": [
       "<Figure size 432x288 with 1 Axes>"
      ]
     },
     "metadata": {
      "needs_background": "light"
     },
     "output_type": "display_data"
    }
   ],
   "source": [
    "%matplotlib inline\n",
    "import numpy as np\n",
    "import matplotlib.pyplot as plt\n",
    "\n",
    "x = np.array([0.0, 0.5, 1.0, 1.5, 2.0])\n",
    "y = np.array([6, 7, 8, 4, 1])\n",
    "plt.scatter(x, y)\n",
    "\n",
    "integral = 0.5 * np.sum(y)\n",
    "print(\" the integral of the function 𝑓(𝑥) on the interval 0≤𝑥<2.5: \", integral)"
   ]
  },
  {
   "cell_type": "markdown",
   "metadata": {},
   "source": [
    "# Version Control via Git"
   ]
  },
  {
   "cell_type": "markdown",
   "metadata": {},
   "source": [
    "## 11\n",
    "Complete the [Atlassian Git tutorial](https://www.atlassian.com/git/tutorials/what-is-version-control), specifically the following sections. Try each concept that's presented. For this tutorial, instead of using BitBucket, use Github. Create a github account here if you don't already have one: https://github.com/\n",
    "1. [What is version control](https://www.atlassian.com/git/tutorials/what-is-version-control)\n",
    "2. [What is Git](https://www.atlassian.com/git/tutorials/what-is-git)\n",
    "3. [Install Git](https://www.atlassian.com/git/tutorials/install-git)\n",
    "4. [Setting up a repository](https://www.atlassian.com/git/tutorials/install-git)\n",
    "5. [Saving changes](https://www.atlassian.com/git/tutorials/saving-changes)\n",
    "6. [Inspecting a repository](https://www.atlassian.com/git/tutorials/inspecting-a-repository)\n",
    "7. [Undoing changes](https://www.atlassian.com/git/tutorials/undoing-changes)\n",
    "8. [Rewriting history](https://www.atlassian.com/git/tutorials/rewriting-history)\n",
    "9. [Syncing](https://www.atlassian.com/git/tutorials/syncing)\n",
    "10. [Making a pull request](https://www.atlassian.com/git/tutorials/making-a-pull-request)\n",
    "11. [Using branches](https://www.atlassian.com/git/tutorials/using-branches)\n",
    "12. [Comparing workflows](https://www.atlassian.com/git/tutorials/comparing-workflows)\n",
    "\n",
    "For your answer, affirm that you either completed the tutorial or have previous experience with all of the concepts above. Do this by typing your name below and selecting the situation that applies from the two options in brackets."
   ]
  },
  {
   "cell_type": "markdown",
   "metadata": {},
   "source": [
    "**ANSWER**\n",
    "\n",
    "*I, Zhenhua Wang, affirm that I have completed the above tutorial*"
   ]
  },
  {
   "cell_type": "markdown",
   "metadata": {},
   "source": [
    "## 12\n",
    "Using Github to create a static HTML website:\n",
    "1. Create a branch in your `machine-learning-course` repo called \"gh-pages\" and checkout that branch (this will provide an example of how to create a simple static website using [Github Pages](https://pages.github.com/))\n",
    "2. Create a file called \"index.html\" with the contents \"Hello World\" and add, commit, and push it to that branch.\n",
    "3. Submit the following: (a) a link to your github repository and (b) a link to your new \"Hello World\" website. The latter should be at the address https://[USERNAME].github.io/ECE590-assignment0 (where [USERNAME] is your github username)."
   ]
  },
  {
   "cell_type": "markdown",
   "metadata": {},
   "source": [
    "**ANSWER**\n",
    "(a) https://github.com/chrimiway\n",
    "(b) https://chrimiway.github.io/machine-learning-course/index.html\n"
   ]
  },
  {
   "cell_type": "markdown",
   "metadata": {},
   "source": [
    "# Exploratory Data Analysis\n",
    "## 13\n",
    "Here you'll bring together some of the individual skills that you demonstrated above and create a Jupyter notebook based blog post on data analysis.\n",
    "\n",
    "1. Find a dataset that interests you and relates to a question or problem that you find intriguing\n",
    "2. Using a Jupyter notebook, describe the dataset, the source of the data, and the reason the dataset was of interest.\n",
    "3. Check the data and see if they need to be cleaned: are there missing values? Are there clearly erroneous values? Do two tables need to be merged together? Clean the data so it can be visualized.\n",
    "3. Plot the data, demonstrating interesting features that you discover. Are there any relationships between variables that were surprising or patterns that emerged? Please exercise creativity and curiosity in your plots.\n",
    "4. What insights are you able to take away from exploring the data? Is there a reason why analyzing the dataset you chose is particularly interesting or important? Summarize this as if your target audience was the readership of a major news organization - boil down your findings in a way that is accessible, but still accurate.\n",
    "5. Create a public repository on your github account titled \"machine-learning-course\". In it, create a readme file that contains the heading \"ECE590: Introductory Machine Learning for Data Science\". Add, commit, and push that Jupyter notebook to the master branch. Provide the link to the that post here."
   ]
  },
  {
   "cell_type": "markdown",
   "metadata": {},
   "source": [
    "**ANSWER**\n",
    "\n",
    "https://github.com/chrimiway/machine-learning-course"
   ]
  }
 ],
 "metadata": {
  "kernelspec": {
   "display_name": "Python 3",
   "language": "python",
   "name": "python3"
  },
  "language_info": {
   "codemirror_mode": {
    "name": "ipython",
    "version": 3
   },
   "file_extension": ".py",
   "mimetype": "text/x-python",
   "name": "python",
   "nbconvert_exporter": "python",
   "pygments_lexer": "ipython3",
   "version": "3.6.7"
  }
 },
 "nbformat": 4,
 "nbformat_minor": 2
}

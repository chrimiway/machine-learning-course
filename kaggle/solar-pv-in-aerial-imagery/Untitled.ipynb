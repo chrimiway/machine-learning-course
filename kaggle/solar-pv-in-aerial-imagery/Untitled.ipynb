{
 "cells": [
  {
   "cell_type": "code",
   "execution_count": 26,
   "metadata": {},
   "outputs": [
    {
     "data": {
      "image/png": "[encoded data removed]",
      "text/plain": [
       "<PIL.Image.Image image mode=RGB size=101x101 at 0x10501CCF8>"
      ]
     },
     "execution_count": 26,
     "metadata": {},
     "output_type": "execute_result"
    }
   ],
   "source": [
    "Image.fromarray(X_train[1499].astype('uint8'))\n",
    "Image.fromarray(X_test[557].astype('uint8'))"
   ]
  },
  {
   "cell_type": "code",
   "execution_count": 20,
   "metadata": {},
   "outputs": [
    {
     "data": {
      "text/plain": [
       "array([[[ 61.,  84.,  89.],\n",
       "        [ 49.,  71.,  87.],\n",
       "        [ 48.,  64.,  81.],\n",
       "        ...,\n",
       "        [131., 129., 122.],\n",
       "        [132., 129., 125.],\n",
       "        [132., 130., 123.]],\n",
       "\n",
       "       [[ 55.,  68.,  81.],\n",
       "        [ 58.,  69.,  79.],\n",
       "        [ 56.,  67.,  81.],\n",
       "        ...,\n",
       "        [131., 128., 125.],\n",
       "        [133., 130., 127.],\n",
       "        [134., 131., 127.]],\n",
       "\n",
       "       [[ 58.,  67.,  77.],\n",
       "        [ 59.,  68.,  76.],\n",
       "        [ 60.,  70.,  75.],\n",
       "        ...,\n",
       "        [125., 125., 124.],\n",
       "        [129., 127., 125.],\n",
       "        [131., 128., 125.]],\n",
       "\n",
       "       ...,\n",
       "\n",
       "       [[179., 183., 170.],\n",
       "        [179., 184., 170.],\n",
       "        [175., 183., 172.],\n",
       "        ...,\n",
       "        [173., 174., 161.],\n",
       "        [175., 176., 162.],\n",
       "        [175., 177., 162.]],\n",
       "\n",
       "       [[178., 184., 168.],\n",
       "        [175., 182., 165.],\n",
       "        [176., 182., 165.],\n",
       "        ...,\n",
       "        [163., 157., 145.],\n",
       "        [169., 158., 149.],\n",
       "        [173., 165., 156.]],\n",
       "\n",
       "       [[182., 176., 163.],\n",
       "        [181., 175., 162.],\n",
       "        [185., 178., 161.],\n",
       "        ...,\n",
       "        [166., 159., 144.],\n",
       "        [168., 159., 144.],\n",
       "        [173., 169., 147.]]])"
      ]
     },
     "execution_count": 20,
     "metadata": {},
     "output_type": "execute_result"
    }
   ],
   "source": [
    "X_train.shape[1:]"
   ]
  },
  {
   "cell_type": "code",
   "execution_count": 2,
   "metadata": {},
   "outputs": [],
   "source": [
    "# load the files\n",
    "import glob\n",
    "import numpy as np\n",
    "import pandas as pd\n",
    "\n",
    "from PIL import Image\n",
    "\n",
    "X_train_path = \"./training/*\"\n",
    "X_test_path = \"./testing/*\"\n",
    "\n",
    "X_train = np.zeros(shape=(1500, 101, 101, 3))\n",
    "for img_path in glob.glob(X_train_path):\n",
    "    image_index = int(img_path.split(\"/\")[-1].split(\".\")[0])\n",
    "    im = Image.open(img_path)\n",
    "    X_train[image_index] = np.array(im)\n",
    "    pass\n",
    "\n",
    "X_test = np.zeros(shape=(558, 101, 101, 3))\n",
    "for img_path in glob.glob(X_test_path):\n",
    "    image_index = int(img_path.split(\"/\")[-1].split(\".\")[0]) - 1500\n",
    "    im = Image.open(img_path)\n",
    "    X_test[image_index] = np.array(im)\n",
    "    pass\n",
    "\n",
    "Y_train = pd.read_csv(\"labels_training.csv\")[\"label\"].values"
   ]
  },
  {
   "cell_type": "code",
   "execution_count": 50,
   "metadata": {},
   "outputs": [
    {
     "name": "stdout",
     "output_type": "stream",
     "text": [
      "Train on 1050 samples, validate on 450 samples\n",
      "Epoch 1/5\n",
      "1050/1050 [==============================] - 10s 10ms/step - loss: 4.0279 - acc: 0.6505 - val_loss: 3.5893 - val_acc: 0.6911\n",
      "Epoch 2/5\n",
      "1050/1050 [==============================] - 9s 8ms/step - loss: 3.4034 - acc: 0.7390 - val_loss: 3.6455 - val_acc: 0.7111\n",
      "Epoch 3/5\n",
      "1050/1050 [==============================] - 9s 8ms/step - loss: 2.5141 - acc: 0.7990 - val_loss: 2.8748 - val_acc: 0.7444\n",
      "Epoch 4/5\n",
      "1050/1050 [==============================] - 9s 8ms/step - loss: 1.8085 - acc: 0.8571 - val_loss: 3.1851 - val_acc: 0.7467\n",
      "Epoch 5/5\n",
      "1050/1050 [==============================] - 9s 8ms/step - loss: 1.5486 - acc: 0.8724 - val_loss: 2.8570 - val_acc: 0.7467\n"
     ]
    },
    {
     "data": {
      "text/plain": [
       "<keras.callbacks.History at 0x156fb4518>"
      ]
     },
     "execution_count": 50,
     "metadata": {},
     "output_type": "execute_result"
    }
   ],
   "source": [
    "from keras.layers import Dense, Dropout, Flatten, BatchNormalization\n",
    "from keras.layers import Conv2D, MaxPooling2D\n",
    "from keras.models import Sequential\n",
    "from keras.utils import to_categorical\n",
    "import keras\n",
    "\n",
    "model = Sequential()\n",
    "model.add(BatchNormalization(input_shape=X_train.shape[1:]))\n",
    "model.add(Conv2D(32, kernel_size=(3, 3),\n",
    "                 activation='relu'))\n",
    "model.add(MaxPooling2D(pool_size=(2, 2)))\n",
    "model.add(Flatten())\n",
    "model.add(BatchNormalization())\n",
    "model.add(Dense(64, activation='relu'))\n",
    "model.add(Dense(1, activation='sigmoid'))\n",
    "\n",
    "model.compile(loss=keras.losses.binary_crossentropy,\n",
    "              optimizer=keras.optimizers.Adadelta(),\n",
    "              metrics=['accuracy'])\n",
    "\n",
    "model.fit(X_train, Y_train,\n",
    "          batch_size=64,\n",
    "          epochs=5,\n",
    "          verbose=1,\n",
    "          shuffle = True,\n",
    "          validation_split=0.3)"
   ]
  },
  {
   "cell_type": "code",
   "execution_count": 23,
   "metadata": {},
   "outputs": [
    {
     "data": {
      "text/plain": [
       "1"
      ]
     },
     "execution_count": 23,
     "metadata": {},
     "output_type": "execute_result"
    }
   ],
   "source": [
    "Y_train[4]"
   ]
  },
  {
   "cell_type": "code",
   "execution_count": 41,
   "metadata": {},
   "outputs": [],
   "source": [
    "y_hat = model.predict(X_test)"
   ]
  },
  {
   "cell_type": "code",
   "execution_count": 48,
   "metadata": {},
   "outputs": [
    {
     "data": {
      "text/plain": [
       "array([1.], dtype=float32)"
      ]
     },
     "execution_count": 48,
     "metadata": {},
     "output_type": "execute_result"
    }
   ],
   "source": [
    "x = 1674\n",
    "y_hat[x - 1500]"
   ]
  },
  {
   "cell_type": "code",
   "execution_count": null,
   "metadata": {},
   "outputs": [],
   "source": []
  }
 ],
 "metadata": {
  "kernelspec": {
   "display_name": "Python 3",
   "language": "python",
   "name": "python3"
  },
  "language_info": {
   "codemirror_mode": {
    "name": "ipython",
    "version": 3
   },
   "file_extension": ".py",
   "mimetype": "text/x-python",
   "name": "python",
   "nbconvert_exporter": "python",
   "pygments_lexer": "ipython3",
   "version": "3.6.7"
  }
 },
 "nbformat": 4,
 "nbformat_minor": 2
}

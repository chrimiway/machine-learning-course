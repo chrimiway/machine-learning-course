{
 "cells": [
  {
   "cell_type": "markdown",
   "metadata": {},
   "source": [
    "# Assignment 5 - Reinforcement Learning\n",
    "\n",
    "## *Zhenhua Wang*\n",
    "Netid:  *zw149*"
   ]
  },
  {
   "cell_type": "markdown",
   "metadata": {},
   "source": [
    "### Blackjack\n",
    "\n",
    "Your goal is to develop a reinforcement learning technique to learn the optimal policy for winning at blackjack. Here, we're going to modify the rules from traditional blackjack a bit in a way that corresponds to the game presented in Sutton and Barto's *Reinforcement Learning: An Introduction* (Chapter 5, example 5.1). A full implementation of the game is provided and usage examples are detailed in the class header below.\n",
    "\n",
    "The rules of this modified version of the game of blackjack are as follows:\n",
    "\n",
    "- Blackjack is a card game where the goal is to obtain cards that sum to as near as possible to 21 without going over.  We're playing against a fixed (autonomous) dealer.\n",
    "- Face cards (Jack, Queen, King) have point value 10. Aces can either count as 11 or 1, and we're refer to it as 'usable' at 11 (indicating that it could be used as a '1' if need be. This game is placed with a deck of cards sampled with replacement.\n",
    "- The game starts with each (player and dealer) having one face up and one face down card.\n",
    "- The player can request additional cards (hit, or action '1') until they decide to stop (stay, action '0') or exceed 21 (bust, the game ends and player loses).\n",
    "- After the player stays, the dealer reveals their facedown card, and draws until their sum is 17 or greater. If the dealer goes bust the player wins. If neither player nor dealer busts, the outcome (win, lose, draw) is decided by whose sum is closer to 21.  The reward for winning is +1, drawing is 0, and losing is -1.\n",
    "\n",
    "\n",
    "\n",
    "You will accomplish three things:\n",
    "1. Try your hand at this game of blackjack and see what your human reinforcement learning system is able to achieve\n",
    "2. Evaluate a simple policy using Monte Carlo policy evaluation\n",
    "3. Determine an optimal policy using Monte Carlo control\n",
    "\n",
    "*This problem is adapted from David Silver's [excellent series on Reinforcement Learning](http://www0.cs.ucl.ac.uk/staff/d.silver/web/Teaching.html) at University College London*"
   ]
  },
  {
   "cell_type": "markdown",
   "metadata": {},
   "source": [
    "## 1\n",
    "\n",
    "### [10 points] Human reinforcement learning \n",
    "\n",
    "Using the code detailed below, play 50 hands of blackjack, and record your overall average reward. This will help you get accustomed with how the game works, the data structures involved with representing states, and what strategies are most effective."
   ]
  },
  {
   "cell_type": "code",
   "execution_count": 1,
   "metadata": {
    "collapsed": true
   },
   "outputs": [],
   "source": [
    "import numpy as np\n",
    "\n",
    "class Blackjack():\n",
    "    \"\"\"Simple blackjack environment adapted from OpenAI Gym:\n",
    "        https://github.com/openai/gym/blob/master/gym/envs/toy_text/blackjack.py\n",
    "    \n",
    "    Blackjack is a card game where the goal is to obtain cards that sum to as\n",
    "    near as possible to 21 without going over.  They're playing against a fixed\n",
    "    dealer.\n",
    "    \n",
    "    Face cards (Jack, Queen, King) have point value 10.\n",
    "    Aces can either count as 11 or 1, and it's called 'usable' at 11.\n",
    "    This game is placed with a deck sampled with replacement.\n",
    "    \n",
    "    The game starts with each (player and dealer) having one face up and one\n",
    "    face down card.\n",
    "    \n",
    "    The player can request additional cards (hit = 1) until they decide to stop\n",
    "    (stay = 0) or exceed 21 (bust).\n",
    "    \n",
    "    After the player stays, the dealer reveals their facedown card, and draws\n",
    "    until their sum is 17 or greater.  If the dealer goes bust the player wins.\n",
    "    If neither player nor dealer busts, the outcome (win, lose, draw) is\n",
    "    decided by whose sum is closer to 21.  The reward for winning is +1,\n",
    "    drawing is 0, and losing is -1.\n",
    "    \n",
    "    The observation is a 3-tuple of: the players current sum,\n",
    "    the dealer's one showing card (1-10 where 1 is ace),\n",
    "    and whether or not the player holds a usable ace (0 or 1).\n",
    "    \n",
    "    This environment corresponds to the version of the blackjack problem\n",
    "    described in Example 5.1 in Reinforcement Learning: An Introduction\n",
    "    by Sutton and Barto (1998).\n",
    "    \n",
    "    http://incompleteideas.net/sutton/book/the-book.html\n",
    "    \n",
    "    Usage: \n",
    "        Initialize the class:\n",
    "            game = Blackjack()\n",
    "        \n",
    "        Deal the cards:\n",
    "            game.deal()\n",
    "            \n",
    "             (14, 3, False)\n",
    "             \n",
    "            This is the agent's observation of the state of the game:\n",
    "            The first value is the sum of cards in your hand (14 in this case)\n",
    "            The second is the visible card in the dealer's hand (3 in this case)\n",
    "            The Boolean is a flag (False in this case) to indicate whether or \n",
    "                not you have a usable Ace\n",
    "            (Note: if you have a usable ace, the sum will treat the ace as a \n",
    "                value of '11' - this is the case if this Boolean flag is \"true\")\n",
    "            \n",
    "        Take an action: Hit (1) or stay (0)\n",
    "        \n",
    "            Take a hit: game.step(1)\n",
    "            To Stay:    game.step(0)\n",
    "            \n",
    "        The output summarizes the game status:\n",
    "            \n",
    "            ((15, 3, False), 0, False)\n",
    "            \n",
    "            The first tuple (15, 3, False), is the agent's observation of the\n",
    "            state of the game as described above.\n",
    "            The second value (0) indicates the rewards\n",
    "            The third value (False) indicates whether the game is finished\n",
    "    \"\"\"\n",
    "    \n",
    "    def __init__(self):\n",
    "        # 1 = Ace, 2-10 = Number cards, Jack/Queen/King = 10\n",
    "        self.deck   = [1, 2, 3, 4, 5, 6, 7, 8, 9, 10, 10, 10, 10]\n",
    "        self.dealer = []\n",
    "        self.player = []\n",
    "        self.deal()\n",
    "\n",
    "    def step(self, action):\n",
    "        if action == 1:  # hit: add a card to players hand and return\n",
    "            self.player.append(self.draw_card())\n",
    "            if self.is_bust(self.player):\n",
    "                done = True\n",
    "                reward = -1\n",
    "            else:\n",
    "                done = False\n",
    "                reward = 0\n",
    "        else:  # stay: play out the dealers hand, and score\n",
    "            done = True\n",
    "            while self.sum_hand(self.dealer) < 17:\n",
    "                self.dealer.append(self.draw_card())\n",
    "            reward = self.cmp(self.score(self.player), self.score(self.dealer))\n",
    "        return self._get_obs(), reward, done\n",
    "\n",
    "    def _get_obs(self):\n",
    "        return (self.sum_hand(self.player), self.dealer[0], self.usable_ace(self.player))\n",
    "\n",
    "    def deal(self):\n",
    "        self.dealer = self.draw_hand()\n",
    "        self.player = self.draw_hand()\n",
    "        return self._get_obs()\n",
    "    \n",
    "    #------------------------------------------\n",
    "    # Other helper functions\n",
    "    #------------------------------------------\n",
    "    def cmp(self, a, b):\n",
    "        return float(a > b) - float(a < b)\n",
    "    \n",
    "    def draw_card(self):\n",
    "        return int(np.random.choice(self.deck))\n",
    "    \n",
    "    def draw_hand(self):\n",
    "        return [self.draw_card(), self.draw_card()]\n",
    "    \n",
    "    def usable_ace(self,hand):  # Does this hand have a usable ace?\n",
    "        return 1 in hand and sum(hand) + 10 <= 21\n",
    "    \n",
    "    def sum_hand(self,hand):  # Return current hand total\n",
    "        if self.usable_ace(hand):\n",
    "            return sum(hand) + 10\n",
    "        return sum(hand)\n",
    "    \n",
    "    def is_bust(self,hand):  # Is this hand a bust?\n",
    "        return self.sum_hand(hand) > 21\n",
    "    \n",
    "    def score(self,hand):  # What is the score of this hand (0 if bust)\n",
    "        return 0 if self.is_bust(hand) else self.sum_hand(hand)"
   ]
  },
  {
   "cell_type": "markdown",
   "metadata": {},
   "source": [
    "Here's an example of how it works to get you started:"
   ]
  },
  {
   "cell_type": "code",
   "execution_count": 10,
   "metadata": {},
   "outputs": [
    {
     "name": "stdout",
     "output_type": "stream",
     "text": [
      "(12, 5, False)\n",
      "((19, 5, False), 0, False)\n",
      "((19, 5, False), -1.0, True)\n",
      "(17, 9, False)\n"
     ]
    }
   ],
   "source": [
    "import numpy as np\n",
    "\n",
    "# Initialize the class:\n",
    "game = Blackjack()\n",
    "\n",
    "# Deal the cards:\n",
    "s0 = game.deal()\n",
    "print(s0)\n",
    "\n",
    "# Take an action: Hit = 1 or stay = 0. Here's a hit:\n",
    "s1 = game.step(1)\n",
    "print(s1)\n",
    "\n",
    "# If you wanted to stay:\n",
    "s2 = game.step(0)\n",
    "print(s2)\n",
    "# When it's gameover, just redeal:\n",
    "s0 = game.deal()\n",
    "print(s0)"
   ]
  },
  {
   "cell_type": "markdown",
   "metadata": {},
   "source": [
    "**ANSWER**"
   ]
  },
  {
   "cell_type": "markdown",
   "metadata": {},
   "source": [
    "After 50 hands of game, I got an average reward of __-0.28__. The best strategy for me is to stop hitting when the sum of cards is greater than 15, since the probability of bust is large in this case."
   ]
  },
  {
   "cell_type": "markdown",
   "metadata": {},
   "source": [
    "## 2\n",
    "\n",
    "### [40 points] Perform Monte Carlo Policy Evaluation\n",
    "\n",
    "Thinking that you want to make your millions playing blackjack, you decide to test out a policy for playing this game. Your idea is an aggressive strategy: always hit unless the total of your cards adds up to 20 or 21, in which case you stay.\n",
    "\n",
    "**(a)** Use Monte Carlo policy evaluation to evaluate the expected returns from each state. Create plots for these similar to Sutton and Barto, Figure 5.1 where you plot the expected returns for each state. In this case create 2 plots:\n",
    "1. When you have a useable ace, plot the state space with the dealer's card on the x-axis, and the player's sum on the y-axis, and use the 'RdBu' matplotlib colormap and `imshow` to plot the value of each state under the policy described above. The domain of your x and y axes should include all possible states (2 to 21 for the player sum, and 1 to 10 for the dealer's card). Do this for for 10,000 episodes.\n",
    "2. Repeat (1) for the states without a usable ace.\n",
    "3. Repeat (1) for the case of 500,000 episodes.\n",
    "4. Relwat (2) for the case of 500,000 episodes.\n",
    "\n",
    "**(b)** Show a plot of the overall average reward per episode vs the number of episodes. For both the 10,000 episode case and the 500,000 episode case, record the overall average reward for this policy and report that value. "
   ]
  },
  {
   "cell_type": "markdown",
   "metadata": {},
   "source": [
    "**ANSWER**"
   ]
  },
  {
   "cell_type": "markdown",
   "metadata": {},
   "source": [
    "(a)"
   ]
  },
  {
   "cell_type": "code",
   "execution_count": 1,
   "metadata": {},
   "outputs": [],
   "source": [
    "from tqdm import trange"
   ]
  },
  {
   "cell_type": "code",
   "execution_count": 29,
   "metadata": {},
   "outputs": [],
   "source": [
    "# return: ((sum of player, visible dealer, usable), rewards)\n",
    "def mcpe(episodes):\n",
    "    val_mat_usable = np.zeros((20, 10, 2))  # each row is a (val, counter)\n",
    "    val_mat_nonusable = np.zeros((20, 10, 2))  # each row is a (val, counter)\n",
    "    avg_r_per_e = []\n",
    "\n",
    "    # updating the matrices above\n",
    "    def update_val(all_state):\n",
    "        total_r = 0\n",
    "        cum_value = 0\n",
    "        for state in all_state[::-1]:\n",
    "            (player, dealer, usable), value, end = state\n",
    "            cum_value += value\n",
    "            if player <= 21:\n",
    "                player_ind = player - 2\n",
    "                dealer_ind = dealer - 1\n",
    "                if usable:\n",
    "                    val_mat_usable[player_ind, dealer_ind][0] += cum_value\n",
    "                    val_mat_usable[player_ind, dealer_ind][1] += 1\n",
    "                    pass\n",
    "                else:\n",
    "                    val_mat_nonusable[player_ind, dealer_ind][0] += cum_value\n",
    "                    val_mat_nonusable[player_ind, dealer_ind][1] += 1\n",
    "                    pass\n",
    "                pass\n",
    "            total_r += cum_value\n",
    "            pass\n",
    "        avg_r_per_e.append(total_r/len(all_state))\n",
    "        pass\n",
    "\n",
    "    # init game\n",
    "    game = Blackjack()\n",
    "\n",
    "    all_state_values = []\n",
    "\n",
    "    # 500,000 episodes\n",
    "    for e in trange(episodes):\n",
    "        all_states = []\n",
    "\n",
    "        # Deal the cards (start a new game):\n",
    "        s0 = game.deal()\n",
    "        # add the first state which is \"deal state\"\n",
    "        all_states.append((s0, 0, False))\n",
    "\n",
    "        # check sum of first two cards equals 20 or 21\n",
    "        if np.isin(s0[0], [20, 21]):\n",
    "            si = game.step(0)\n",
    "            all_states.append(si)\n",
    "            pass\n",
    "        else:\n",
    "            si = game.step(1)\n",
    "            all_states.append(si)\n",
    "\n",
    "            # stop until 20 is reached or reach end of game\n",
    "            while si[0][0] < 20 and si[-1] == False:\n",
    "                si = game.step(1)\n",
    "                all_states.append(si)\n",
    "            if not si[-1]:\n",
    "                si = game.step(0)\n",
    "                all_states.append(si)\n",
    "\n",
    "        update_val(all_states)\n",
    "\n",
    "    return val_mat_usable, val_mat_nonusable, avg_r_per_e"
   ]
  },
  {
   "cell_type": "code",
   "execution_count": 30,
   "metadata": {},
   "outputs": [
    {
     "name": "stderr",
     "output_type": "stream",
     "text": [
      "100%|█████████████████████████████████████████████████████████████████████████| 10000/10000 [00:00<00:00, 13877.45it/s]\n"
     ]
    }
   ],
   "source": [
    "episodes = 10000\n",
    "val_mat_usable_ind, val_mat_nonusable_ind, avg_r_per_e1 = mcpe(episodes)\n",
    "\n",
    "# calculate the average\n",
    "# when there is no value occurs, this calculation will give us \"NAN\", which is exactly we want!\n",
    "with np.errstate(divide='ignore', invalid='ignore'):\n",
    "    val_mat_usable = np.divide(val_mat_usable_ind[:,:,0],\n",
    "                               val_mat_usable_ind[:,:,1])\n",
    "    val_mat_nonusable = np.divide(val_mat_nonusable_ind[:,:,0],\n",
    "                               val_mat_nonusable_ind[:,:,1])"
   ]
  },
  {
   "cell_type": "code",
   "execution_count": 31,
   "metadata": {},
   "outputs": [
    {
     "data": {
      "image/png": "[encoded data removed]",
      "text/plain": [
       "<Figure size 864x576 with 3 Axes>"
      ]
     },
     "metadata": {
      "needs_background": "light"
     },
     "output_type": "display_data"
    }
   ],
   "source": [
    "%matplotlib inline\n",
    "import matplotlib.pyplot as plt\n",
    "plt.figure(figsize=(12, 8))\n",
    "plt.subplot(121)\n",
    "plt.imshow(val_mat_nonusable, extent=[1,10,21,2],\n",
    "           cmap='RdBu')\n",
    "plt.title(\"Non-Usable Ace, with {} episodes\".format(episodes))\n",
    "plt.xticks(np.arange(1, 11, step=1))\n",
    "plt.yticks(np.arange(2, 22, step=1))\n",
    "plt.xlabel(\"the visible card for dealer\")\n",
    "plt.ylabel(\"sum of number of cards for player\")\n",
    "\n",
    "plt.subplot(122)\n",
    "plt.imshow(val_mat_usable, extent=[1,10,21,2],\n",
    "           cmap='RdBu')\n",
    "plt.title(\"Usable Ace, with {} episodes\".format(episodes))\n",
    "plt.xticks(np.arange(1, 11, step=1))\n",
    "plt.yticks(np.arange(2, 22, step=1))\n",
    "plt.xlabel(\"the visible card for dealer\")\n",
    "plt.ylabel(\"sum of number of cards for player\")\n",
    "\n",
    "plt.colorbar()\n",
    "plt.show()"
   ]
  },
  {
   "cell_type": "code",
   "execution_count": 32,
   "metadata": {},
   "outputs": [
    {
     "name": "stderr",
     "output_type": "stream",
     "text": [
      "100%|███████████████████████████████████████████████████████████████████████| 500000/500000 [00:35<00:00, 13983.50it/s]\n"
     ]
    }
   ],
   "source": [
    "episodes = 500000\n",
    "val_mat_usable_ind, val_mat_nonusable_ind, avg_r_per_e5 = mcpe(episodes)\n",
    "\n",
    "# calculate the average\n",
    "# when there is no value occurs, this calculation will give us \"NAN\", which is exactly we want!\n",
    "with np.errstate(divide='ignore', invalid='ignore'):\n",
    "    val_mat_usable = np.divide(val_mat_usable_ind[:,:,0],\n",
    "                               val_mat_usable_ind[:,:,1])\n",
    "    val_mat_nonusable = np.divide(val_mat_nonusable_ind[:,:,0],\n",
    "                               val_mat_nonusable_ind[:,:,1])"
   ]
  },
  {
   "cell_type": "code",
   "execution_count": 9,
   "metadata": {},
   "outputs": [
    {
     "data": {
      "image/png": "[encoded data removed]",
      "text/plain": [
       "<Figure size 864x576 with 3 Axes>"
      ]
     },
     "metadata": {
      "needs_background": "light"
     },
     "output_type": "display_data"
    }
   ],
   "source": [
    "import matplotlib.pyplot as plt\n",
    "plt.figure(figsize=(12, 8))\n",
    "plt.subplot(121)\n",
    "plt.imshow(val_mat_nonusable, extent=[1,10,21,2],\n",
    "           cmap='RdBu')\n",
    "plt.title(\"Non-Usable Ace, with {} episodes\".format(episodes))\n",
    "plt.xticks(np.arange(1, 11, step=1))\n",
    "plt.yticks(np.arange(2, 22, step=1))\n",
    "plt.xlabel(\"the visible card for dealer\")\n",
    "plt.ylabel(\"sum of number of cards for player\")\n",
    "\n",
    "plt.subplot(122)\n",
    "plt.imshow(val_mat_usable, extent=[1,10,21,2],\n",
    "           cmap='RdBu')\n",
    "plt.title(\"Usable Ace, with {} episodes\".format(episodes))\n",
    "plt.xticks(np.arange(1, 11, step=1))\n",
    "plt.yticks(np.arange(2, 22, step=1))\n",
    "plt.xlabel(\"the visible card for dealer\")\n",
    "plt.ylabel(\"sum of number of cards for player\")\n",
    "\n",
    "plt.colorbar()\n",
    "plt.show()"
   ]
  },
  {
   "cell_type": "markdown",
   "metadata": {},
   "source": [
    "(b)"
   ]
  },
  {
   "cell_type": "code",
   "execution_count": 33,
   "metadata": {},
   "outputs": [
    {
     "data": {
      "image/png": "[encoded data removed]",
      "text/plain": [
       "<Figure size 864x432 with 2 Axes>"
      ]
     },
     "metadata": {
      "needs_background": "light"
     },
     "output_type": "display_data"
    }
   ],
   "source": [
    "def cummean(x):\n",
    "    return np.cumsum(x)/np.arange(1, len(x)+1)\n",
    "\n",
    "cum_avg_r1 = cummean(avg_r_per_e1)\n",
    "cum_avg_r5 = cummean(avg_r_per_e5)\n",
    "\n",
    "plt.figure(figsize=(12, 6))\n",
    "plt.subplot(121)\n",
    "plt.plot(range(10000), cum_avg_r1)\n",
    "plt.title(\"10000 episodes\")\n",
    "plt.xlabel(\"number of episodes\")\n",
    "plt.ylabel(\"average reward per episode\")\n",
    "plt.subplot(122)\n",
    "plt.plot(range(500000), cum_avg_r5)\n",
    "plt.title(\"500000 episodes.\")\n",
    "plt.xlabel(\"number of episodes\")\n",
    "plt.ylabel(\"average reward per episode\")\n",
    "plt.show()"
   ]
  },
  {
   "cell_type": "code",
   "execution_count": 34,
   "metadata": {},
   "outputs": [
    {
     "name": "stdout",
     "output_type": "stream",
     "text": [
      "The overall average reward for 10000 episodes is -0.3609\n",
      "The overall average reward for 500000 episodes is -0.3523\n"
     ]
    }
   ],
   "source": [
    "print(\"The overall average reward for 10000 episodes is {:.4}\".format(cum_avg_r1[-1]))\n",
    "print(\"The overall average reward for 500000 episodes is {:.4}\".format(cum_avg_r5[-1]))"
   ]
  },
  {
   "cell_type": "markdown",
   "metadata": {},
   "source": [
    "## 3\n",
    "\n",
    "### [40 points] Perform Monte Carlo Control\n",
    "\n",
    "**(a)** Using Monte Carlo Control through policy iteration, estimate the optimal policy for playing our modified blackjack game to maximize rewards. \n",
    "\n",
    "In doing this, use the following assumptions:\n",
    "1. Initialize the value function and the state value function to all zeros\n",
    "2. Keep a running tally of the number of times the agent visited each state and chose an action. $N(s_t,a_t)$ is the number of times action $a$ has been selected from state $s$. You'll need this to compute the running average. You can implement an online average as: $\\bar{x}_{t} = \\frac{1}{N}x_t + \\frac{N-1}{N}\\bar{x}_{t-1}$ \n",
    "3. Use an $\\epsilon$-greedy exploration strategy with $\\epsilon_t = \\frac{N_0}{N_0 + N(s_t)}$, where we define $N_0 = 100$. Vary $N_0$ as needed.\n",
    "\n",
    "Show your result by plotting the optimal value function: $V^*(s) = max_a Q^*(s,a)$ and the optimal policy $\\pi^*(s)$. Create plots for these similar to Sutton and Barto, Figure 5.2 in the new draft edition, or 5.5 in the original edition. Your results SHOULD be very similar to the plots in that text. For these plots include:\n",
    "1. When you have a useable ace, plot the state space with the dealer's card on the x-axis, and the player's sum on the y-axis, and use the 'RdBu' matplotlib colormap and `imshow` to plot the value of each state under the policy described above. The domain of your x and y axes should include all possible states (2 to 21 for the player sum, and 1 to 10 for the dealer's visible card).\n",
    "2. Repeat (1) for the states without a usable ace.\n",
    "3. A plot of the optimal policy $\\pi^*(s)$ for the states with a usable ace (this plot could be an imshow plot with binary values).\n",
    "4. A plot of the optimal policy $\\pi^*(s)$ for the states without a usable ace (this plot could be an imshow plot with binary values).\n",
    "\n",
    "**(b)** Show a plot of the overall average reward per episode vs the number of episodes. What is the average reward your control strategy was able to achieve?\n",
    "\n",
    "*Note: convergence of this algorithm is extremely slow. You may need to let this run a few million episodes before the policy starts to converge. You're not expected to get EXACTLY the optimal policy, but it should be visibly close.* "
   ]
  },
  {
   "cell_type": "markdown",
   "metadata": {},
   "source": [
    "**ANSWER**"
   ]
  },
  {
   "cell_type": "code",
   "execution_count": 2,
   "metadata": {},
   "outputs": [],
   "source": [
    "import numpy as np\n",
    "from tqdm import trange\n",
    "from math import floor\n",
    "import time\n",
    "\n",
    "class Monte_Carlo_Control:\n",
    "    def __init__(self):\n",
    "        self.action_value = np.zeros((400, 2))  # (20user * 10dealer * 2usable * 2actions)\n",
    "        self.action_value_counter = np.zeros((400, 2))\n",
    "        self.policy = np.ones(400)  # (20user * 10dealer * 2usable) booleans: hit(1) or stick(0)\n",
    "        self.avg_r_per_e = []\n",
    "\n",
    "        # init policy (same as last question, stop when reached 18 or 19)\n",
    "        user_init = np.zeros(20); user_init[18:20] = 1\n",
    "        self.policy = np.outer(np.outer(user_init, np.ones(10)), np.ones(2)).ravel()\n",
    "\n",
    "    def policy_eval(self):\n",
    "        def update_val(all_state):\n",
    "            total_r = 0\n",
    "            cum_value = 0\n",
    "            for state in all_state[::-1]:\n",
    "                index, value, action = state\n",
    "                cum_value += value\n",
    "                self.action_value_counter[index, action] += 1\n",
    "                self.action_value[index, action] += cum_value\n",
    "                total_r += cum_value\n",
    "                pass\n",
    "            self.avg_r_per_e.append(total_r / len(all_state))\n",
    "            pass\n",
    "\n",
    "\n",
    "        # start game\n",
    "        game = Blackjack()\n",
    "        all_states = []\n",
    "\n",
    "        player, dealer, use = game.deal()\n",
    "        done = False\n",
    "        s_ind = (player - 2)*10*2 + (dealer - 1)*2 + use\n",
    "\n",
    "        stick_ind = np.where(self.policy == 0)[0]\n",
    "\n",
    "        while True:\n",
    "            if done:\n",
    "                break\n",
    "            if np.isin(s_ind, stick_ind):\n",
    "                _, reward, done = game.step(0)\n",
    "                all_states.append([s_ind, reward, 0])\n",
    "                break\n",
    "\n",
    "            (player, dealer, use), reward, done = game.step(1)\n",
    "            all_states.append([s_ind, reward, 1])\n",
    "            s_ind = (player - 2) * 10 * 2 + (dealer - 1) * 2 + use\n",
    "\n",
    "        update_val(all_states)\n",
    "        pass\n",
    "\n",
    "    def policy_imporve(self, N0):\n",
    "        action_value = np.divide(mcc.action_value, mcc.action_value_counter)\n",
    "        Ns = np.sum(self.action_value_counter, axis=1)\n",
    "        epsilon = N0 / (N0 + Ns)\n",
    "\n",
    "        indicator = np.random.binomial(1, 1 - epsilon, len(epsilon))\n",
    "\n",
    "        exploit = indicator * np.argmax(action_value, axis=1)\n",
    "        explore = (1 - indicator) * np.random.randint(0, 2, indicator.shape)\n",
    "\n",
    "        self.policy = exploit + explore\n",
    "\n",
    "\n",
    "    def run(self, episodes, N0):\n",
    "        for _ in trange(episodes):\n",
    "#             start = time.time()\n",
    "            self.policy_eval()\n",
    "#             end = time.time()\n",
    "#             print(\"eval\", end - start)\n",
    "#             start = time.time()\n",
    "            self.policy_imporve(N0)\n",
    "#             end = time.time()\n",
    "#             print(\"impro\", end - start)\n",
    "        pass"
   ]
  },
  {
   "cell_type": "code",
   "execution_count": 3,
   "metadata": {},
   "outputs": [
    {
     "name": "stderr",
     "output_type": "stream",
     "text": [
      "  0%|                                                                                     | 0/80000000 [00:00<?, ?it/s]C:\\Users\\Zhenhua Wang\\Anaconda\\lib\\site-packages\\ipykernel_launcher.py:65: RuntimeWarning: invalid value encountered in true_divide\n",
      "100%|██████████████████████████████████████████████████████████████████| 80000000/80000000 [6:29:45<00:00, 3420.91it/s]\n"
     ]
    }
   ],
   "source": [
    "episodes = 80000000\n",
    "mcc = Monte_Carlo_Control()\n",
    "mcc.run(episodes, 100)"
   ]
  },
  {
   "cell_type": "code",
   "execution_count": 4,
   "metadata": {},
   "outputs": [
    {
     "name": "stderr",
     "output_type": "stream",
     "text": [
      "C:\\Users\\Zhenhua Wang\\Anaconda\\lib\\site-packages\\ipykernel_launcher.py:1: RuntimeWarning: invalid value encountered in true_divide\n",
      "  \"\"\"Entry point for launching an IPython kernel.\n",
      "C:\\Users\\Zhenhua Wang\\Anaconda\\lib\\site-packages\\numpy\\core\\fromnumeric.py:83: RuntimeWarning: invalid value encountered in reduce\n",
      "  return ufunc.reduce(obj, axis, dtype, out, **passkwargs)\n"
     ]
    }
   ],
   "source": [
    "action_value = np.divide(mcc.action_value, mcc.action_value_counter).reshape(20, 10, 2, 2)\n",
    "action_value = np.max(action_value, axis=3)\n",
    "\n",
    "val_mat_nonusable = action_value[:, :, 0]\n",
    "val_mat_usable = action_value[:, :, 1]"
   ]
  },
  {
   "cell_type": "code",
   "execution_count": 5,
   "metadata": {},
   "outputs": [
    {
     "data": {
      "image/png": "[encoded data removed]",
      "text/plain": [
       "<Figure size 864x576 with 3 Axes>"
      ]
     },
     "metadata": {
      "needs_background": "light"
     },
     "output_type": "display_data"
    }
   ],
   "source": [
    "%matplotlib inline\n",
    "import matplotlib.pyplot as plt\n",
    "plt.figure(figsize=(12, 8))\n",
    "plt.subplot(121)\n",
    "plt.imshow(val_mat_nonusable, extent=[1,10,21,2],\n",
    "           cmap='RdBu')\n",
    "plt.title(\"Non-Usable Ace, with {} episodes\".format(episodes))\n",
    "plt.xticks(np.arange(1, 11, step=1))\n",
    "plt.yticks(np.arange(2, 22, step=1))\n",
    "plt.xlabel(\"the visible card for dealer\")\n",
    "plt.ylabel(\"sum of number of cards for player\")\n",
    "\n",
    "plt.subplot(122)\n",
    "plt.imshow(val_mat_usable, extent=[1,10,21,2],\n",
    "           cmap='RdBu')\n",
    "plt.title(\"Usable Ace, with {} episodes\".format(episodes))\n",
    "plt.xticks(np.arange(1, 11, step=1))\n",
    "plt.yticks(np.arange(2, 22, step=1))\n",
    "plt.xlabel(\"the visible card for dealer\")\n",
    "plt.ylabel(\"sum of number of cards for player\")\n",
    "\n",
    "plt.colorbar()\n",
    "plt.show()"
   ]
  },
  {
   "cell_type": "code",
   "execution_count": 6,
   "metadata": {},
   "outputs": [
    {
     "data": {
      "image/png": "[encoded data removed]",
      "text/plain": [
       "<Figure size 576x432 with 3 Axes>"
      ]
     },
     "metadata": {
      "needs_background": "light"
     },
     "output_type": "display_data"
    }
   ],
   "source": [
    "import matplotlib as mpl\n",
    "bw_cmap = mpl.colors.ListedColormap(['white', 'black'])\n",
    "\n",
    "plt.figure(figsize=(8, 6))\n",
    "plt.subplot(121)\n",
    "plt.imshow(np.flip(mcc.policy.reshape(20, 10, 2)[:, :, 0], 0), extent=[1,10,2,21],\n",
    "           cmap=bw_cmap)\n",
    "plt.title(\"Non-Usable Ace\")\n",
    "plt.xticks(np.arange(1, 11, step=1))\n",
    "plt.yticks(np.arange(2, 22, step=1))\n",
    "plt.subplot(122)\n",
    "plt.imshow(np.flip(mcc.policy.reshape(20, 10, 2)[:, :, 1], 0), extent=[1,10,2,21],\n",
    "           cmap=bw_cmap)\n",
    "plt.title(\"Usable Ace\")\n",
    "plt.xticks(np.arange(1, 11, step=1))\n",
    "plt.yticks(np.arange(2, 22, step=1))\n",
    "cbar = plt.colorbar(ticks=[0, 1])\n",
    "cbar.ax.set_yticklabels(['stick', 'hit'])\n",
    "plt.show()"
   ]
  },
  {
   "cell_type": "code",
   "execution_count": 7,
   "metadata": {},
   "outputs": [
    {
     "data": {
      "image/png": "[encoded data removed]",
      "text/plain": [
       "<Figure size 432x288 with 1 Axes>"
      ]
     },
     "metadata": {
      "needs_background": "light"
     },
     "output_type": "display_data"
    }
   ],
   "source": [
    "def cummean(x):\n",
    "    return np.cumsum(x)/np.arange(1, len(x)+1)\n",
    "\n",
    "cum_avg_r = cummean(mcc.avg_r_per_e)\n",
    "plt.plot(range(episodes), cum_avg_r)\n",
    "plt.title(\"Average reward per episode for Monte Carlo Control\")\n",
    "plt.xlabel(\"number of episodes\")\n",
    "plt.ylabel(\"average reward per episode\")\n",
    "plt.show()"
   ]
  },
  {
   "cell_type": "code",
   "execution_count": 8,
   "metadata": {},
   "outputs": [
    {
     "name": "stdout",
     "output_type": "stream",
     "text": [
      "The overall average reward is -0.04868\n"
     ]
    }
   ],
   "source": [
    "print(\"The overall average reward is {:.4}\".format(cum_avg_r[-1]))"
   ]
  },
  {
   "cell_type": "markdown",
   "metadata": {},
   "source": [
    "## 4\n",
    "\n",
    "### [10 points] Discuss your findings\n",
    "\n",
    "Compare the performance of your human control policy, the naive policy from question 2, and the optimal control policy in question 3. \n",
    "**(a)** Which performs best? Why is this the case? \n",
    "**(b)** Could you have created a better policy if you knew the full Markov Decision Process for this environment? Why or why not?"
   ]
  },
  {
   "cell_type": "markdown",
   "metadata": {},
   "source": [
    "**ANSWER**"
   ]
  },
  {
   "cell_type": "markdown",
   "metadata": {},
   "source": [
    "(a) The optimal control policy is the best. \n",
    "\n",
    "Because the optimal controal policy considers all possible states. For me, I only consider the probability of busting, whereas the optimal control policy also takes into account the visible card in dealer's hand.\n",
    "\n",
    "Naive policy is the worst, because it busts for most of the time.\n",
    "\n",
    "(b) No, I do not expect much benefits we woul get if we knew the full MDP. This is because during monte carlo control, we have incorporated all \"action-states\". These \"action-state\" pairs could cover all possible state in the game. Therefore, by taking the expected returns of \"action-state\" value function and updating policy using $\\epsilon$-greedy, we already get a optimal policy"
   ]
  },
  {
   "cell_type": "code",
   "execution_count": null,
   "metadata": {},
   "outputs": [],
   "source": []
  }
 ],
 "metadata": {
  "kernelspec": {
   "display_name": "Python 3",
   "language": "python",
   "name": "python3"
  },
  "language_info": {
   "codemirror_mode": {
    "name": "ipython",
    "version": 3
   },
   "file_extension": ".py",
   "mimetype": "text/x-python",
   "name": "python",
   "nbconvert_exporter": "python",
   "pygments_lexer": "ipython3",
   "version": "3.6.7"
  },
  "varInspector": {
   "cols": {
    "lenName": 16,
    "lenType": 16,
    "lenVar": 40
   },
   "kernels_config": {
    "python": {
     "delete_cmd_postfix": "",
     "delete_cmd_prefix": "del ",
     "library": "var_list.py",
     "varRefreshCmd": "print(var_dic_list())"
    },
    "r": {
     "delete_cmd_postfix": ") ",
     "delete_cmd_prefix": "rm(",
     "library": "var_list.r",
     "varRefreshCmd": "cat(var_dic_list()) "
    }
   },
   "types_to_exclude": [
    "module",
    "function",
    "builtin_function_or_method",
    "instance",
    "_Feature"
   ],
   "window_display": false
  }
 },
 "nbformat": 4,
 "nbformat_minor": 2
}
